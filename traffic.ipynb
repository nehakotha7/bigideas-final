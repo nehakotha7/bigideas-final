{
 "cells": [
  {
   "cell_type": "markdown",
   "id": "679c7173-6f25-4a24-8bdc-f7f9d02a1de2",
   "metadata": {},
   "source": [
    "# Sub-metric #2 : Traffic (Jett)"
   ]
  },
  {
   "cell_type": "markdown",
   "id": "7488414c-3895-4a61-9445-9fb8fd9bebfa",
   "metadata": {},
   "source": []
  }
 ],
 "metadata": {
  "kernelspec": {
   "display_name": "Python 3 (ipykernel)",
   "language": "python",
   "name": "python3"
  },
  "language_info": {
   "codemirror_mode": {
    "name": "ipython",
    "version": 3
   },
   "file_extension": ".py",
   "mimetype": "text/x-python",
   "name": "python",
   "nbconvert_exporter": "python",
   "pygments_lexer": "ipython3",
   "version": "3.12.4"
  }
 },
 "nbformat": 4,
 "nbformat_minor": 5
}
