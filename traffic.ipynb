{
 "cells": [
  {
   "cell_type": "markdown",
   "id": "679c7173-6f25-4a24-8bdc-f7f9d02a1de2",
   "metadata": {},
   "source": [
    "# Sub-metric #2 : Traffic (Jett)"
   ]
  },
  {
   "cell_type": "code",
   "execution_count": 17,
   "id": "d30a7202-f95f-48f8-a64a-cc99338d0f9d",
   "metadata": {},
   "outputs": [
    {
     "name": "stdout",
     "output_type": "stream",
     "text": [
      "Crafton Heights :  1\n",
      "Upper Lawrenceville :  1\n",
      "Regent Square :  1\n",
      "Duquesne Heights :  1\n",
      "Allegheny Center :  1\n",
      "East Allegheny :  1\n",
      "Chateau :  1\n",
      "Swisshelm Park :  1\n",
      "Allegheny West :  1\n",
      "Spring Garden :  1\n",
      "Fineview :  1\n",
      "New Homestead :  1\n",
      "Lincoln Place :  1\n",
      "Oakwood :  1\n",
      "Banksville :  1\n",
      "Chartiers City :  1\n",
      "Troy Hill :  1\n",
      "Middle Hill :  1\n",
      "Crawford-Roberts :  1\n",
      "South Shore :  2\n",
      "Friendship :  2\n",
      "Knoxville :  2\n",
      "West Oakland :  2\n",
      "Overbrook :  2\n",
      "Central Business District :  2\n",
      "St. Clair :  2\n",
      "Point Breeze North :  2\n",
      "Beltzhoover :  2\n",
      "nan :  2\n",
      "Summer Hill :  2\n",
      "Windgap :  3\n",
      "North Shore :  3\n",
      "Lower Lawrenceville :  3\n",
      "Arlington :  3\n",
      "Spring Hill-City View :  3\n",
      "South Side Flats :  4\n",
      "South Oakland :  4\n",
      "Westwood :  4\n",
      "Beechview :  4\n",
      "Upper Hill :  4\n",
      "Stanton Heights :  4\n",
      "Lincoln-Lemington-Belmar :  4\n",
      "Sheraden :  4\n",
      "Homewood North :  4\n",
      "California-Kirkbride :  4\n",
      "Brighton Heights :  4\n",
      "Hazelwood :  5\n",
      "Elliott :  5\n",
      "Polish Hill :  6\n",
      "Perry South :  6\n",
      "Central Northside :  7\n",
      "Greenfield :  7\n",
      "East Hills :  7\n",
      "Marshall-Shadeland :  7\n",
      "Central Lawrenceville :  8\n",
      "Central Oakland :  8\n",
      "Bluff :  8\n",
      "North Oakland :  8\n",
      "Morningside :  8\n",
      "Manchester :  10\n",
      "Carrick :  10\n",
      "Larimer :  11\n",
      "Strip District :  11\n",
      "South Side Slopes :  11\n",
      "Squirrel Hill North :  12\n",
      "Brookline :  12\n",
      "Point Breeze :  12\n",
      "Homewood South :  12\n",
      "Perry North :  14\n",
      "East Liberty :  16\n",
      "Highland Park :  16\n",
      "Mount Washington :  16\n",
      "Shadyside :  18\n",
      "Bloomfield :  21\n",
      "Squirrel Hill South :  28\n"
     ]
    }
   ],
   "source": [
    "import pandas as pd\n",
    "traffic = pd.read_csv(\"traffic.csv\")\n",
    "\n",
    "trafficData = {}\n",
    "for i in traffic.iloc[:, 18]:\n",
    "    if i in trafficData:\n",
    "        trafficData[i] += 1\n",
    "    else:\n",
    "        trafficData[i] = 1\n",
    "\n",
    "trafficData = dict(sorted(trafficData.items(), key=lambda item: item[1]))\n",
    "\n",
    "for neighborhood in trafficData:\n",
    "    print(neighborhood, \": \", trafficData[neighborhood])"
   ]
  },
  {
   "cell_type": "code",
   "execution_count": null,
   "id": "eab5fa78-25f3-4c84-bdb2-1f7223f04b31",
   "metadata": {},
   "outputs": [],
   "source": []
  }
 ],
 "metadata": {
  "kernelspec": {
   "display_name": "Python 3 (ipykernel)",
   "language": "python",
   "name": "python3"
  },
  "language_info": {
   "codemirror_mode": {
    "name": "ipython",
    "version": 3
   },
   "file_extension": ".py",
   "mimetype": "text/x-python",
   "name": "python",
   "nbconvert_exporter": "python",
   "pygments_lexer": "ipython3",
   "version": "3.12.4"
  }
 },
 "nbformat": 4,
 "nbformat_minor": 5
}
