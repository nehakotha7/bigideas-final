{
 "cells": [
  {
   "cell_type": "markdown",
   "id": "85d343d7-091f-4182-9412-05350526de3d",
   "metadata": {},
   "source": [
    "# Sub-metric #3 : Crash Data (Neha)"
   ]
  },
  {
   "cell_type": "markdown",
   "id": "37b482b1-839b-4126-a43e-5f60901e03a2",
   "metadata": {},
   "source": []
  }
 ],
 "metadata": {
  "kernelspec": {
   "display_name": "Python 3 (ipykernel)",
   "language": "python",
   "name": "python3"
  },
  "language_info": {
   "codemirror_mode": {
    "name": "ipython",
    "version": 3
   },
   "file_extension": ".py",
   "mimetype": "text/x-python",
   "name": "python",
   "nbconvert_exporter": "python",
   "pygments_lexer": "ipython3",
   "version": "3.12.4"
  }
 },
 "nbformat": 4,
 "nbformat_minor": 5
}
